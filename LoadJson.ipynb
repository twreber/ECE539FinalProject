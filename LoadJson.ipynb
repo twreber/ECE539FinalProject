import json
import os
from google.colab import drive
import pandas as pd

drive.mount('/content/drive')
with open('/content/drive/My Drive/539Project/reviewSmall.json') as f:
  print(f)
  df = pd.read_json(f)
  df.info()
  df2 = df.drop(['review_id', 'user_id', 'business_id', 'useful', 'funny', 'cool', 'date'], axis = 1)
  df2.info()
